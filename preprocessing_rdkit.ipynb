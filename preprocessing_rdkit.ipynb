{
 "cells": [
  {
   "cell_type": "code",
   "execution_count": 3,
   "metadata": {},
   "outputs": [],
   "source": [
    "import pandas as pd\n",
    "from rdkit import Chem\n",
    "from rdkit.Chem import Descriptors\n",
    "from rdkit.Chem import rdMolDescriptors as rdMD\n",
    "\n",
    "\n",
    "df = pd.read_csv(r\"data\\preprocessed\\train_extracted_SMILES.csv\")\n",
    "\n",
    "# SMILES에서 피처 추출\n",
    "def extract_features(smiles):\n",
    "    molecule = Chem.MolFromSmiles(smiles)\n",
    "    if molecule is None:\n",
    "        return None\n",
    "    \n",
    "    features = {\n",
    "        'MolecularWeight': Descriptors.MolWt(molecule),\n",
    "        'LogP': Descriptors.MolLogP(molecule),\n",
    "        'NumHDonors': Descriptors.NumHDonors(molecule),\n",
    "        'NumHAcceptors': Descriptors.NumHAcceptors(molecule),\n",
    "        'NumRotatableBonds': Descriptors.NumRotatableBonds(molecule),\n",
    "        'TPSA': Descriptors.TPSA(molecule),\n",
    "        'NumRings': Descriptors.RingCount(molecule),\n",
    "        'NumAliphaticRings': Descriptors.NumAliphaticRings(molecule),\n",
    "        'NumAromaticRings': Descriptors.NumAromaticRings(molecule),\n",
    "        'NumSaturatedRings': Descriptors.NumSaturatedRings(molecule),\n",
    "        'NumHeteroatoms': Descriptors.NumHeteroatoms(molecule),\n",
    "        'NumHeavyAtoms': Descriptors.HeavyAtomCount(molecule),\n",
    "        'FractionCSP3': Descriptors.FractionCSP3(molecule),\n",
    "        'MolMR': Descriptors.MolMR(molecule),\n",
    "        'NumAmideBonds': rdMD.CalcNumAmideBonds(molecule),\n",
    "        # 'BalabanJ': rdMD.CalcBalabanJ(molecule),\n",
    "        # 'BertzCT': rdMD.CalcBertzCT(molecule),\n",
    "        'HallKierAlpha': rdMD.CalcHallKierAlpha(molecule)\n",
    "    }\n",
    "    return features\n",
    "\n",
    "\n",
    "df_rdkit = df['Smiles'].apply(extract_features)\n",
    "df_rdkit = pd.DataFrame(df_rdkit.tolist())\n",
    "df_target = pd.concat([df, df_rdkit], axis=1)  \n",
    "df_target.to_csv('data/preprocessed/train_rdkit.csv', index=False)"
   ]
  },
  {
   "cell_type": "code",
   "execution_count": null,
   "metadata": {},
   "outputs": [],
   "source": []
  },
  {
   "cell_type": "code",
   "execution_count": null,
   "metadata": {},
   "outputs": [],
   "source": []
  },
  {
   "cell_type": "code",
   "execution_count": null,
   "metadata": {},
   "outputs": [],
   "source": []
  },
  {
   "cell_type": "code",
   "execution_count": null,
   "metadata": {},
   "outputs": [],
   "source": []
  },
  {
   "cell_type": "code",
   "execution_count": null,
   "metadata": {},
   "outputs": [],
   "source": []
  }
 ],
 "metadata": {
  "kernelspec": {
   "display_name": ".venv",
   "language": "python",
   "name": "python3"
  },
  "language_info": {
   "codemirror_mode": {
    "name": "ipython",
    "version": 3
   },
   "file_extension": ".py",
   "mimetype": "text/x-python",
   "name": "python",
   "nbconvert_exporter": "python",
   "pygments_lexer": "ipython3",
   "version": "3.11.8"
  }
 },
 "nbformat": 4,
 "nbformat_minor": 2
}
