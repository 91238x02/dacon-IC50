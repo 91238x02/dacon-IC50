{
 "cells": [
  {
   "cell_type": "markdown",
   "metadata": {},
   "source": [
    "# Get available descriptors info"
   ]
  },
  {
   "cell_type": "code",
   "execution_count": 14,
   "metadata": {},
   "outputs": [
    {
     "name": "stdout",
     "output_type": "stream",
     "text": [
      "Available 2D Descriptors:\n",
      "'MaxAbsEStateIndex', 'MaxEStateIndex', 'MinAbsEStateIndex', 'MinEStateIndex', 'qed', 'SPS', 'MolWt', 'HeavyAtomMolWt', 'ExactMolWt', 'NumValenceElectrons', 'NumRadicalElectrons', 'MaxPartialCharge', 'MinPartialCharge', 'MaxAbsPartialCharge', 'MinAbsPartialCharge', 'FpDensityMorgan1', 'FpDensityMorgan2', 'FpDensityMorgan3', 'BCUT2D_MWHI', 'BCUT2D_MWLOW', 'BCUT2D_CHGHI', 'BCUT2D_CHGLO', 'BCUT2D_LOGPHI', 'BCUT2D_LOGPLOW', 'BCUT2D_MRHI', 'BCUT2D_MRLOW', 'AvgIpc', 'BalabanJ', 'BertzCT', 'Chi0', 'Chi0n', 'Chi0v', 'Chi1', 'Chi1n', 'Chi1v', 'Chi2n', 'Chi2v', 'Chi3n', 'Chi3v', 'Chi4n', 'Chi4v', 'HallKierAlpha', 'Ipc', 'Kappa1', 'Kappa2', 'Kappa3', 'LabuteASA', 'PEOE_VSA1', 'PEOE_VSA10', 'PEOE_VSA11', 'PEOE_VSA12', 'PEOE_VSA13', 'PEOE_VSA14', 'PEOE_VSA2', 'PEOE_VSA3', 'PEOE_VSA4', 'PEOE_VSA5', 'PEOE_VSA6', 'PEOE_VSA7', 'PEOE_VSA8', 'PEOE_VSA9', 'SMR_VSA1', 'SMR_VSA10', 'SMR_VSA2', 'SMR_VSA3', 'SMR_VSA4', 'SMR_VSA5', 'SMR_VSA6', 'SMR_VSA7', 'SMR_VSA8', 'SMR_VSA9', 'SlogP_VSA1', 'SlogP_VSA10', 'SlogP_VSA11', 'SlogP_VSA12', 'SlogP_VSA2', 'SlogP_VSA3', 'SlogP_VSA4', 'SlogP_VSA5', 'SlogP_VSA6', 'SlogP_VSA7', 'SlogP_VSA8', 'SlogP_VSA9', 'TPSA', 'EState_VSA1', 'EState_VSA10', 'EState_VSA11', 'EState_VSA2', 'EState_VSA3', 'EState_VSA4', 'EState_VSA5', 'EState_VSA6', 'EState_VSA7', 'EState_VSA8', 'EState_VSA9', 'VSA_EState1', 'VSA_EState10', 'VSA_EState2', 'VSA_EState3', 'VSA_EState4', 'VSA_EState5', 'VSA_EState6', 'VSA_EState7', 'VSA_EState8', 'VSA_EState9', 'FractionCSP3', 'HeavyAtomCount', 'NHOHCount', 'NOCount', 'NumAliphaticCarbocycles', 'NumAliphaticHeterocycles', 'NumAliphaticRings', 'NumAromaticCarbocycles', 'NumAromaticHeterocycles', 'NumAromaticRings', 'NumHAcceptors', 'NumHDonors', 'NumHeteroatoms', 'NumRotatableBonds', 'NumSaturatedCarbocycles', 'NumSaturatedHeterocycles', 'NumSaturatedRings', 'RingCount', 'MolLogP', 'MolMR', 'fr_Al_COO', 'fr_Al_OH', 'fr_Al_OH_noTert', 'fr_ArN', 'fr_Ar_COO', 'fr_Ar_N', 'fr_Ar_NH', 'fr_Ar_OH', 'fr_COO', 'fr_COO2', 'fr_C_O', 'fr_C_O_noCOO', 'fr_C_S', 'fr_HOCCN', 'fr_Imine', 'fr_NH0', 'fr_NH1', 'fr_NH2', 'fr_N_O', 'fr_Ndealkylation1', 'fr_Ndealkylation2', 'fr_Nhpyrrole', 'fr_SH', 'fr_aldehyde', 'fr_alkyl_carbamate', 'fr_alkyl_halide', 'fr_allylic_oxid', 'fr_amide', 'fr_amidine', 'fr_aniline', 'fr_aryl_methyl', 'fr_azide', 'fr_azo', 'fr_barbitur', 'fr_benzene', 'fr_benzodiazepine', 'fr_bicyclic', 'fr_diazo', 'fr_dihydropyridine', 'fr_epoxide', 'fr_ester', 'fr_ether', 'fr_furan', 'fr_guanido', 'fr_halogen', 'fr_hdrzine', 'fr_hdrzone', 'fr_imidazole', 'fr_imide', 'fr_isocyan', 'fr_isothiocyan', 'fr_ketone', 'fr_ketone_Topliss', 'fr_lactam', 'fr_lactone', 'fr_methoxy', 'fr_morpholine', 'fr_nitrile', 'fr_nitro', 'fr_nitro_arom', 'fr_nitro_arom_nonortho', 'fr_nitroso', 'fr_oxazole', 'fr_oxime', 'fr_para_hydroxylation', 'fr_phenol', 'fr_phenol_noOrthoHbond', 'fr_phos_acid', 'fr_phos_ester', 'fr_piperdine', 'fr_piperzine', 'fr_priamide', 'fr_prisulfonamd', 'fr_pyridine', 'fr_quatN', 'fr_sulfide', 'fr_sulfonamd', 'fr_sulfone', 'fr_term_acetylene', 'fr_tetrazole', 'fr_thiazole', 'fr_thiocyan', 'fr_thiophene', 'fr_unbrch_alkane', 'fr_urea', \n",
      "\n",
      "Available 3D Descriptors:\n",
      "'AtomPairsParameters', 'BCUT2D', 'CalcAUTOCORR2D', 'CalcAUTOCORR3D', 'CalcAsphericity', 'CalcChi0n', 'CalcChi0v', 'CalcChi1n', 'CalcChi1v', 'CalcChi2n', 'CalcChi2v', 'CalcChi3n', 'CalcChi3v', 'CalcChi4n', 'CalcChi4v', 'CalcChiNn', 'CalcChiNv', 'CalcCoulombMat', 'CalcCrippenDescriptors', 'CalcEEMcharges', 'CalcEccentricity', 'CalcExactMolWt', 'CalcFractionCSP3', 'CalcGETAWAY', 'CalcHallKierAlpha', 'CalcInertialShapeFactor', 'CalcKappa1', 'CalcKappa2', 'CalcKappa3', 'CalcLabuteASA', 'CalcMORSE', 'CalcMolFormula', 'CalcNPR1', 'CalcNPR2', 'CalcNumAliphaticCarbocycles', 'CalcNumAliphaticHeterocycles', 'CalcNumAliphaticRings', 'CalcNumAmideBonds', 'CalcNumAromaticCarbocycles', 'CalcNumAromaticHeterocycles', 'CalcNumAromaticRings', 'CalcNumAtomStereoCenters', 'CalcNumAtoms', 'CalcNumBridgeheadAtoms', 'CalcNumHBA', 'CalcNumHBD', 'CalcNumHeavyAtoms', 'CalcNumHeteroatoms', 'CalcNumHeterocycles', 'CalcNumLipinskiHBA', 'CalcNumLipinskiHBD', 'CalcNumRings', 'CalcNumRotatableBonds', 'CalcNumSaturatedCarbocycles', 'CalcNumSaturatedHeterocycles', 'CalcNumSaturatedRings', 'CalcNumSpiroAtoms', 'CalcNumUnspecifiedAtomStereoCenters', 'CalcOxidationNumbers', 'CalcPBF', 'CalcPMI1', 'CalcPMI2', 'CalcPMI3', 'CalcPhi', 'CalcRDF', 'CalcRadiusOfGyration', 'CalcSpherocityIndex', 'CalcTPSA', 'CalcWHIM', 'CustomProp_VSA_', 'DoubleCubicLatticeVolume', 'GetAtomFeatures', 'GetAtomPairAtomCode', 'GetAtomPairCode', 'GetAtomPairFingerprint', 'GetConnectivityInvariants', 'GetFeatureInvariants', 'GetHashedAtomPairFingerprint', 'GetHashedAtomPairFingerprintAsBitVect', 'GetHashedMorganFingerprint', 'GetHashedTopologicalTorsionFingerprint', 'GetHashedTopologicalTorsionFingerprintAsBitVect', 'GetMACCSKeysFingerprint', 'GetMorganFingerprint', 'GetMorganFingerprintAsBitVect', 'GetTopologicalTorsionFingerprint', 'GetUSR', 'GetUSRCAT', 'GetUSRDistributions', 'GetUSRDistributionsFromPoints', 'GetUSRFromDistributions', 'GetUSRScore', 'MQNs_', 'MakePropertyRangeQuery', 'NumRotatableBondsOptions', 'PEOE_VSA_', 'Properties', 'PropertyFunctor', 'PropertyRangeQuery', 'PythonPropertyFunctor', 'SMR_VSA_', 'SlogP_VSA_', '_BCUT2D_version', '_CalcAUTOCORR2D_version', '_CalcAUTOCORR3D_version', '_CalcAsphericity_version', '_CalcChi0n_version', '_CalcChi0v_version', '_CalcChi1n_version', '_CalcChi1v_version', '_CalcChi2n_version', '_CalcChi2v_version', '_CalcChi3n_version', '_CalcChi3v_version', '_CalcChi4n_version', '_CalcChi4v_version', '_CalcChiNn_version', '_CalcChiNv_version', '_CalcCoulombMat_version', '_CalcCrippenContribs', '_CalcCrippenDescriptors_version', '_CalcEMMcharges_version', '_CalcEccentricity_version', '_CalcExactMolWt_version', '_CalcFractionCSP3_version', '_CalcGETAWAY_version', '_CalcHallKierAlpha_version', '_CalcInertialShapeFactor_version', '_CalcKappa1_version', '_CalcKappa2_version', '_CalcKappa3_version', '_CalcLabuteASAContribs', '_CalcLabuteASA_version', '_CalcMORSE_version', '_CalcMolFormula_version', '_CalcMolWt', '_CalcMolWt_version', '_CalcNPR1_version', '_CalcNPR2_version', '_CalcNumAliphaticCarbocycles_version', '_CalcNumAliphaticHeterocycles_version', '_CalcNumAliphaticRings_version', '_CalcNumAmideBonds_version', '_CalcNumAromaticCarbocycles_version', '_CalcNumAromaticHeterocycles_version', '_CalcNumAromaticRings_version', '_CalcNumAtomStereoCenters_version', '_CalcNumAtoms_version', '_CalcNumBridgeheadAtoms_version', '_CalcNumHBA_version', '_CalcNumHBD_version', '_CalcNumHeavyAtoms_version', '_CalcNumHeteroatoms_version', '_CalcNumHeterocycles_version', '_CalcNumLipinskiHBA_version', '_CalcNumLipinskiHBD_version', '_CalcNumRings_version', '_CalcNumRotatableBonds_version', '_CalcNumSaturatedCarbocycles_version', '_CalcNumSaturatedHeterocycles_version', '_CalcNumSaturatedRings_version', '_CalcNumSpiroAtoms_version', '_CalcNumUnspecifiedAtomStereoCenters_version', '_CalcPBF_version', '_CalcPMI1_version', '_CalcPMI2_version', '_CalcPMI3_version', '_CalcPhi_version', '_CalcRDF_version', '_CalcRadiusOfGyration_version', '_CalcSpherocityIndex_version', '_CalcTPSAContribs', '_CalcTPSA_version', '_CalcWHIM_version', '_ConnectivityInvariants_version', '_FeatureInvariants_version', '_GetAtomFeatures_version', '_MorganFingerprint_version', "
     ]
    }
   ],
   "source": [
    "# extract\n",
    "from rdkit.Chem import Descriptors\n",
    "from rdkit.Chem import rdMolDescriptors as Descriptors3D\n",
    "\n",
    "def get_available_descriptors():\n",
    "    # 2D Descriptors\n",
    "    descriptors_2d = [desc_name for desc_name, _ in Descriptors.descList]\n",
    "\n",
    "    # 3D Descriptors\n",
    "    descriptors_3d = [desc_name for desc_name in dir(Descriptors3D) if not desc_name.startswith('__')]\n",
    "\n",
    "    return descriptors_2d, descriptors_3d\n",
    "\n",
    "if __name__ == \"__main__\":\n",
    "    descriptors_2d, descriptors_3d = get_available_descriptors()\n",
    "    print(\"Available 2D Descriptors:\")\n",
    "    \n",
    "    for desc in descriptors_2d:\n",
    "        print(f\"'{desc}'\", end=', ')\n",
    "\n",
    "\n",
    "    print()\n",
    "    print(\"\\nAvailable 3D Descriptors:\")\n",
    "    for desc in descriptors_3d:\n",
    "        print(f\"'{desc}'\", end=', ')"
   ]
  },
  {
   "cell_type": "code",
   "execution_count": 15,
   "metadata": {},
   "outputs": [
    {
     "data": {
      "text/plain": [
       "210"
      ]
     },
     "execution_count": 15,
     "metadata": {},
     "output_type": "execute_result"
    }
   ],
   "source": [
    "# 2d\n",
    "x = ['MaxAbsEStateIndex', 'MaxEStateIndex', 'MinAbsEStateIndex', 'MinEStateIndex', 'qed', 'SPS', 'MolWt', 'HeavyAtomMolWt', 'ExactMolWt', 'NumValenceElectrons', 'NumRadicalElectrons', 'MaxPartialCharge', 'MinPartialCharge', 'MaxAbsPartialCharge', 'MinAbsPartialCharge', 'FpDensityMorgan1', 'FpDensityMorgan2', 'FpDensityMorgan3', 'BCUT2D_MWHI', 'BCUT2D_MWLOW', 'BCUT2D_CHGHI', 'BCUT2D_CHGLO', 'BCUT2D_LOGPHI', 'BCUT2D_LOGPLOW', 'BCUT2D_MRHI', 'BCUT2D_MRLOW', 'AvgIpc', 'BalabanJ', 'BertzCT', 'Chi0', 'Chi0n', 'Chi0v', 'Chi1', 'Chi1n', 'Chi1v', 'Chi2n', 'Chi2v', 'Chi3n', 'Chi3v', 'Chi4n', 'Chi4v', 'HallKierAlpha', 'Ipc', 'Kappa1', 'Kappa2', 'Kappa3', 'LabuteASA', 'PEOE_VSA1', 'PEOE_VSA10', 'PEOE_VSA11', 'PEOE_VSA12', 'PEOE_VSA13', 'PEOE_VSA14', 'PEOE_VSA2', 'PEOE_VSA3', 'PEOE_VSA4', 'PEOE_VSA5', 'PEOE_VSA6', 'PEOE_VSA7', 'PEOE_VSA8', 'PEOE_VSA9', 'SMR_VSA1', 'SMR_VSA10', 'SMR_VSA2', 'SMR_VSA3', 'SMR_VSA4', 'SMR_VSA5', 'SMR_VSA6', 'SMR_VSA7', 'SMR_VSA8', 'SMR_VSA9', 'SlogP_VSA1', 'SlogP_VSA10', 'SlogP_VSA11', 'SlogP_VSA12', 'SlogP_VSA2', 'SlogP_VSA3', 'SlogP_VSA4', 'SlogP_VSA5', 'SlogP_VSA6', 'SlogP_VSA7', 'SlogP_VSA8', 'SlogP_VSA9', 'TPSA', 'EState_VSA1', 'EState_VSA10', 'EState_VSA11', 'EState_VSA2', 'EState_VSA3', 'EState_VSA4', 'EState_VSA5', 'EState_VSA6', 'EState_VSA7', 'EState_VSA8', 'EState_VSA9', 'VSA_EState1', 'VSA_EState10', 'VSA_EState2', 'VSA_EState3', 'VSA_EState4', 'VSA_EState5', 'VSA_EState6', 'VSA_EState7', 'VSA_EState8', 'VSA_EState9', 'FractionCSP3', 'HeavyAtomCount', 'NHOHCount', 'NOCount', 'NumAliphaticCarbocycles', 'NumAliphaticHeterocycles', 'NumAliphaticRings', 'NumAromaticCarbocycles', 'NumAromaticHeterocycles', 'NumAromaticRings', 'NumHAcceptors', 'NumHDonors', 'NumHeteroatoms', 'NumRotatableBonds', 'NumSaturatedCarbocycles', 'NumSaturatedHeterocycles', 'NumSaturatedRings', 'RingCount', 'MolLogP', 'MolMR', 'fr_Al_COO', 'fr_Al_OH', 'fr_Al_OH_noTert', 'fr_ArN', 'fr_Ar_COO', 'fr_Ar_N', 'fr_Ar_NH', 'fr_Ar_OH', 'fr_COO', 'fr_COO2', 'fr_C_O', 'fr_C_O_noCOO', 'fr_C_S', 'fr_HOCCN', 'fr_Imine', 'fr_NH0', 'fr_NH1', 'fr_NH2', 'fr_N_O', 'fr_Ndealkylation1', 'fr_Ndealkylation2', 'fr_Nhpyrrole', 'fr_SH', 'fr_aldehyde', 'fr_alkyl_carbamate', 'fr_alkyl_halide', 'fr_allylic_oxid', 'fr_amide', 'fr_amidine', 'fr_aniline', 'fr_aryl_methyl', 'fr_azide', 'fr_azo', 'fr_barbitur', 'fr_benzene', 'fr_benzodiazepine', 'fr_bicyclic', 'fr_diazo', 'fr_dihydropyridine', 'fr_epoxide', 'fr_ester', 'fr_ether', 'fr_furan', 'fr_guanido', 'fr_halogen', 'fr_hdrzine', 'fr_hdrzone', 'fr_imidazole', 'fr_imide', 'fr_isocyan', 'fr_isothiocyan', 'fr_ketone', 'fr_ketone_Topliss', 'fr_lactam', 'fr_lactone', 'fr_methoxy', 'fr_morpholine', 'fr_nitrile', 'fr_nitro', 'fr_nitro_arom', 'fr_nitro_arom_nonortho', 'fr_nitroso', 'fr_oxazole', 'fr_oxime', 'fr_para_hydroxylation', 'fr_phenol', 'fr_phenol_noOrthoHbond', 'fr_phos_acid', 'fr_phos_ester', 'fr_piperdine', 'fr_piperzine', 'fr_priamide', 'fr_prisulfonamd', 'fr_pyridine', 'fr_quatN', 'fr_sulfide', 'fr_sulfonamd', 'fr_sulfone', 'fr_term_acetylene', 'fr_tetrazole', 'fr_thiazole', 'fr_thiocyan', 'fr_thiophene', 'fr_unbrch_alkane', 'fr_urea']\n",
    "len(x)"
   ]
  },
  {
   "cell_type": "code",
   "execution_count": 19,
   "metadata": {},
   "outputs": [
    {
     "data": {
      "text/plain": [
       "(178, 102)"
      ]
     },
     "execution_count": 19,
     "metadata": {},
     "output_type": "execute_result"
    }
   ],
   "source": [
    "# 3d\n",
    "y_withVersion = ['AtomPairsParameters', 'BCUT2D', 'CalcAUTOCORR2D', 'CalcAUTOCORR3D', 'CalcAsphericity', 'CalcChi0n', 'CalcChi0v', 'CalcChi1n', 'CalcChi1v', 'CalcChi2n', 'CalcChi2v', 'CalcChi3n', 'CalcChi3v', 'CalcChi4n', 'CalcChi4v', 'CalcChiNn', 'CalcChiNv', 'CalcCoulombMat', 'CalcCrippenDescriptors', 'CalcEEMcharges', 'CalcEccentricity', 'CalcExactMolWt', 'CalcFractionCSP3', 'CalcGETAWAY', 'CalcHallKierAlpha', 'CalcInertialShapeFactor', 'CalcKappa1', 'CalcKappa2', 'CalcKappa3', 'CalcLabuteASA', 'CalcMORSE', 'CalcMolFormula', 'CalcNPR1', 'CalcNPR2', 'CalcNumAliphaticCarbocycles', 'CalcNumAliphaticHeterocycles', 'CalcNumAliphaticRings', 'CalcNumAmideBonds', 'CalcNumAromaticCarbocycles', 'CalcNumAromaticHeterocycles', 'CalcNumAromaticRings', 'CalcNumAtomStereoCenters', 'CalcNumAtoms', 'CalcNumBridgeheadAtoms', 'CalcNumHBA', 'CalcNumHBD', 'CalcNumHeavyAtoms', 'CalcNumHeteroatoms', 'CalcNumHeterocycles', 'CalcNumLipinskiHBA', 'CalcNumLipinskiHBD', 'CalcNumRings', 'CalcNumRotatableBonds', 'CalcNumSaturatedCarbocycles', 'CalcNumSaturatedHeterocycles', 'CalcNumSaturatedRings', 'CalcNumSpiroAtoms', 'CalcNumUnspecifiedAtomStereoCenters', 'CalcOxidationNumbers', 'CalcPBF', 'CalcPMI1', 'CalcPMI2', 'CalcPMI3', 'CalcPhi', 'CalcRDF', 'CalcRadiusOfGyration', 'CalcSpherocityIndex', 'CalcTPSA', 'CalcWHIM', 'CustomProp_VSA_', 'DoubleCubicLatticeVolume', 'GetAtomFeatures', 'GetAtomPairAtomCode', 'GetAtomPairCode', 'GetAtomPairFingerprint', 'GetConnectivityInvariants', 'GetFeatureInvariants', 'GetHashedAtomPairFingerprint', 'GetHashedAtomPairFingerprintAsBitVect', 'GetHashedMorganFingerprint', 'GetHashedTopologicalTorsionFingerprint', 'GetHashedTopologicalTorsionFingerprintAsBitVect', 'GetMACCSKeysFingerprint', 'GetMorganFingerprint', 'GetMorganFingerprintAsBitVect', 'GetTopologicalTorsionFingerprint', 'GetUSR', 'GetUSRCAT', 'GetUSRDistributions', 'GetUSRDistributionsFromPoints', 'GetUSRFromDistributions', 'GetUSRScore', 'MQNs_', 'MakePropertyRangeQuery', 'NumRotatableBondsOptions', 'PEOE_VSA_', 'Properties', 'PropertyFunctor', 'PropertyRangeQuery', 'PythonPropertyFunctor', 'SMR_VSA_', 'SlogP_VSA_', '_BCUT2D_version', '_CalcAUTOCORR2D_version', '_CalcAUTOCORR3D_version', '_CalcAsphericity_version', '_CalcChi0n_version', '_CalcChi0v_version', '_CalcChi1n_version', '_CalcChi1v_version', '_CalcChi2n_version', '_CalcChi2v_version', '_CalcChi3n_version', '_CalcChi3v_version', '_CalcChi4n_version', '_CalcChi4v_version', '_CalcChiNn_version', '_CalcChiNv_version', '_CalcCoulombMat_version', '_CalcCrippenContribs', '_CalcCrippenDescriptors_version', '_CalcEMMcharges_version', '_CalcEccentricity_version', '_CalcExactMolWt_version', '_CalcFractionCSP3_version', '_CalcGETAWAY_version', '_CalcHallKierAlpha_version', '_CalcInertialShapeFactor_version', '_CalcKappa1_version', '_CalcKappa2_version', '_CalcKappa3_version', '_CalcLabuteASAContribs', '_CalcLabuteASA_version', '_CalcMORSE_version', '_CalcMolFormula_version', '_CalcMolWt', '_CalcMolWt_version', '_CalcNPR1_version', '_CalcNPR2_version', '_CalcNumAliphaticCarbocycles_version', '_CalcNumAliphaticHeterocycles_version', '_CalcNumAliphaticRings_version', '_CalcNumAmideBonds_version', '_CalcNumAromaticCarbocycles_version', '_CalcNumAromaticHeterocycles_version', '_CalcNumAromaticRings_version', '_CalcNumAtomStereoCenters_version', '_CalcNumAtoms_version', '_CalcNumBridgeheadAtoms_version', '_CalcNumHBA_version', '_CalcNumHBD_version', '_CalcNumHeavyAtoms_version', '_CalcNumHeteroatoms_version', '_CalcNumHeterocycles_version', '_CalcNumLipinskiHBA_version', '_CalcNumLipinskiHBD_version', '_CalcNumRings_version', '_CalcNumRotatableBonds_version', '_CalcNumSaturatedCarbocycles_version', '_CalcNumSaturatedHeterocycles_version', '_CalcNumSaturatedRings_version', '_CalcNumSpiroAtoms_version', '_CalcNumUnspecifiedAtomStereoCenters_version', '_CalcPBF_version', '_CalcPMI1_version', '_CalcPMI2_version', '_CalcPMI3_version', '_CalcPhi_version', '_CalcRDF_version', '_CalcRadiusOfGyration_version', '_CalcSpherocityIndex_version', '_CalcTPSAContribs', '_CalcTPSA_version', '_CalcWHIM_version', '_ConnectivityInvariants_version', '_FeatureInvariants_version', '_GetAtomFeatures_version', '_MorganFingerprint_version']\n",
    "y_withoutVersion = ['AtomPairsParameters', 'BCUT2D', 'CalcAUTOCORR2D', 'CalcAUTOCORR3D', 'CalcAsphericity', 'CalcChi0n', 'CalcChi0v', 'CalcChi1n', 'CalcChi1v', 'CalcChi2n', 'CalcChi2v', 'CalcChi3n', 'CalcChi3v', 'CalcChi4n', 'CalcChi4v', 'CalcChiNn', 'CalcChiNv', 'CalcCoulombMat', 'CalcCrippenDescriptors', 'CalcEEMcharges', 'CalcEccentricity', 'CalcExactMolWt', 'CalcFractionCSP3', 'CalcGETAWAY', 'CalcHallKierAlpha', 'CalcInertialShapeFactor', 'CalcKappa1', 'CalcKappa2', 'CalcKappa3', 'CalcLabuteASA', 'CalcMORSE', 'CalcMolFormula', 'CalcNPR1', 'CalcNPR2', 'CalcNumAliphaticCarbocycles', 'CalcNumAliphaticHeterocycles', 'CalcNumAliphaticRings', 'CalcNumAmideBonds', 'CalcNumAromaticCarbocycles', 'CalcNumAromaticHeterocycles', 'CalcNumAromaticRings', 'CalcNumAtomStereoCenters', 'CalcNumAtoms', 'CalcNumBridgeheadAtoms', 'CalcNumHBA', 'CalcNumHBD', 'CalcNumHeavyAtoms', 'CalcNumHeteroatoms', 'CalcNumHeterocycles', 'CalcNumLipinskiHBA', 'CalcNumLipinskiHBD', 'CalcNumRings', 'CalcNumRotatableBonds', 'CalcNumSaturatedCarbocycles', 'CalcNumSaturatedHeterocycles', 'CalcNumSaturatedRings', 'CalcNumSpiroAtoms', 'CalcNumUnspecifiedAtomStereoCenters', 'CalcOxidationNumbers', 'CalcPBF', 'CalcPMI1', 'CalcPMI2', 'CalcPMI3', 'CalcPhi', 'CalcRDF', 'CalcRadiusOfGyration', 'CalcSpherocityIndex', 'CalcTPSA', 'CalcWHIM', 'CustomProp_VSA_', 'DoubleCubicLatticeVolume', 'GetAtomFeatures', 'GetAtomPairAtomCode', 'GetAtomPairCode', 'GetAtomPairFingerprint', 'GetConnectivityInvariants', 'GetFeatureInvariants', 'GetHashedAtomPairFingerprint', 'GetHashedAtomPairFingerprintAsBitVect', 'GetHashedMorganFingerprint', 'GetHashedTopologicalTorsionFingerprint', 'GetHashedTopologicalTorsionFingerprintAsBitVect', 'GetMACCSKeysFingerprint', 'GetMorganFingerprint', 'GetMorganFingerprintAsBitVect', 'GetTopologicalTorsionFingerprint', 'GetUSR', 'GetUSRCAT', 'GetUSRDistributions', 'GetUSRDistributionsFromPoints', 'GetUSRFromDistributions', 'GetUSRScore', 'MQNs_', 'MakePropertyRangeQuery', 'NumRotatableBondsOptions', 'PEOE_VSA_', 'Properties', 'PropertyFunctor', 'PropertyRangeQuery', 'PythonPropertyFunctor', 'SMR_VSA_', 'SlogP_VSA_']\n",
    "len(y_withVersion), len(y_withoutVersion)"
   ]
  }
 ],
 "metadata": {
  "kernelspec": {
   "display_name": ".venv",
   "language": "python",
   "name": "python3"
  },
  "language_info": {
   "codemirror_mode": {
    "name": "ipython",
    "version": 3
   },
   "file_extension": ".py",
   "mimetype": "text/x-python",
   "name": "python",
   "nbconvert_exporter": "python",
   "pygments_lexer": "ipython3",
   "version": "3.11.8"
  }
 },
 "nbformat": 4,
 "nbformat_minor": 2
}
